{
 "cells": [
  {
   "cell_type": "code",
   "metadata": {
    "ExecuteTime": {
     "end_time": "2024-06-06T19:11:45.154771Z",
     "start_time": "2024-06-06T19:11:45.149673Z"
    }
   },
   "source": [
    "import os\n",
    "\n",
    "import matplotlib\n",
    "import matplotlib.pyplot as plt\n",
    "import scienceplots\n",
    "plt.style.use(\"science\")\n",
    "\n",
    "import astropy.units as u\n",
    "\n",
    "from astroquery.gaia import Gaia\n",
    "from astroquery.simbad import Simbad\n",
    "\n",
    "from astropy.visualization import quantity_support\n",
    "\n",
    "variableName = os.getcwd().split('/')[-1]\n",
    "variableName"
   ],
   "outputs": [
    {
     "data": {
      "text/plain": [
       "'LINEAR_16694484'"
      ]
     },
     "execution_count": 21,
     "metadata": {},
     "output_type": "execute_result"
    }
   ],
   "execution_count": 21
  },
  {
   "cell_type": "code",
   "metadata": {
    "ExecuteTime": {
     "end_time": "2024-06-06T19:05:24.309238Z",
     "start_time": "2024-06-06T19:05:21.854581Z"
    }
   },
   "source": [
    "# https://astroquery.readthedocs.io/en/latest/gaia/gaia.html#login-logout\n",
    "if os.path.exists('../gaia-credentials.txt'):\n",
    "    Gaia.login(credentials_file='../gaia-credentials.txt')"
   ],
   "outputs": [
    {
     "name": "stdout",
     "output_type": "stream",
     "text": [
      "INFO: Login to gaia TAP server [astroquery.gaia.core]\n",
      "INFO: OK [astroquery.utils.tap.core]\n",
      "INFO: Login to gaia data server [astroquery.gaia.core]\n",
      "INFO: OK [astroquery.utils.tap.core]\n"
     ]
    }
   ],
   "execution_count": 3
  },
  {
   "cell_type": "code",
   "metadata": {
    "ExecuteTime": {
     "end_time": "2024-06-06T19:05:24.318431Z",
     "start_time": "2024-06-06T19:05:24.311140Z"
    }
   },
   "source": [
    "gaiaSourceId = None\n",
    "simbadResult = Simbad.query_objectids(variableName)\n",
    "allIds = simbadResult['ID']\n",
    "for astroId in allIds:\n",
    "    if 'Gaia DR3' in astroId:\n",
    "        gaiaSourceId = int(astroId.replace('Gaia DR3 ', ''))\n",
    "\n",
    "gaiaSourceId, type(gaiaSourceId)"
   ],
   "outputs": [
    {
     "data": {
      "text/plain": [
       "(1384972475872713472, int)"
      ]
     },
     "execution_count": 4,
     "metadata": {},
     "output_type": "execute_result"
    }
   ],
   "execution_count": 4
  },
  {
   "cell_type": "code",
   "metadata": {
    "ExecuteTime": {
     "end_time": "2024-06-06T19:05:25.581629Z",
     "start_time": "2024-06-06T19:05:24.320279Z"
    }
   },
   "source": [
    "os.makedirs(\"./data/gaia-datalink\", exist_ok=True)\n",
    "datalink = Gaia.load_data(ids=[int(gaiaSourceId)], data_release='Gaia DR3', data_structure='INDIVIDUAL', retrieval_type='ALL', format='votable', output_file=\"./data/gaia-datalink/\", overwrite_output_file=True)"
   ],
   "outputs": [
    {
     "name": "stderr",
     "output_type": "stream",
     "text": [
      "ERROR: Path /home/ramon/uanl/ensenada-work/PHOEBE-Ensenada-Models/LINEAR_16694484/data/gaia-datalink already exist [astroquery.gaia.core]\n"
     ]
    }
   ],
   "execution_count": 5
  },
  {
   "cell_type": "code",
   "metadata": {
    "ExecuteTime": {
     "end_time": "2024-06-06T19:05:25.585218Z",
     "start_time": "2024-06-06T19:05:25.582435Z"
    }
   },
   "source": [
    "list(datalink.keys())"
   ],
   "outputs": [
    {
     "data": {
      "text/plain": [
       "['MCMC_MSC-Gaia DR3 1384972475872713472.xml',\n",
       " 'XP_SAMPLED-Gaia DR3 1384972475872713472.xml',\n",
       " 'XP_CONTINUOUS-Gaia DR3 1384972475872713472.xml',\n",
       " 'MCMC_GSPPHOT-Gaia DR3 1384972475872713472.xml',\n",
       " 'EPOCH_PHOTOMETRY-Gaia DR3 1384972475872713472.xml',\n",
       " 'sampled-spectrum.csv']"
      ]
     },
     "execution_count": 6,
     "metadata": {},
     "output_type": "execute_result"
    }
   ],
   "execution_count": 6
  },
  {
   "cell_type": "code",
   "metadata": {
    "ExecuteTime": {
     "end_time": "2024-06-06T19:06:13.131263Z",
     "start_time": "2024-06-06T19:06:13.123967Z"
    }
   },
   "source": [
    "sed = datalink['XP_SAMPLED-Gaia DR3 1384972475872713472.xml'][0].to_table()\n",
    "sed.to_pandas()"
   ],
   "outputs": [
    {
     "data": {
      "text/plain": [
       "     wavelength          flux    flux_error\n",
       "0         336.0  4.537816e-17  1.047471e-17\n",
       "1         338.0  4.544656e-17  7.901557e-18\n",
       "2         340.0  3.830325e-17  6.485295e-18\n",
       "3         342.0  3.496032e-17  5.677440e-18\n",
       "4         344.0  3.953803e-17  5.396717e-18\n",
       "..          ...           ...           ...\n",
       "338      1012.0  1.453823e-17  5.434783e-18\n",
       "339      1014.0  1.384905e-17  5.930432e-18\n",
       "340      1016.0  1.364819e-17  6.267654e-18\n",
       "341      1018.0  1.319110e-17  6.112013e-18\n",
       "342      1020.0  1.331974e-17  6.066202e-18\n",
       "\n",
       "[343 rows x 3 columns]"
      ],
      "text/html": [
       "<div>\n",
       "<style scoped>\n",
       "    .dataframe tbody tr th:only-of-type {\n",
       "        vertical-align: middle;\n",
       "    }\n",
       "\n",
       "    .dataframe tbody tr th {\n",
       "        vertical-align: top;\n",
       "    }\n",
       "\n",
       "    .dataframe thead th {\n",
       "        text-align: right;\n",
       "    }\n",
       "</style>\n",
       "<table border=\"1\" class=\"dataframe\">\n",
       "  <thead>\n",
       "    <tr style=\"text-align: right;\">\n",
       "      <th></th>\n",
       "      <th>wavelength</th>\n",
       "      <th>flux</th>\n",
       "      <th>flux_error</th>\n",
       "    </tr>\n",
       "  </thead>\n",
       "  <tbody>\n",
       "    <tr>\n",
       "      <th>0</th>\n",
       "      <td>336.0</td>\n",
       "      <td>4.537816e-17</td>\n",
       "      <td>1.047471e-17</td>\n",
       "    </tr>\n",
       "    <tr>\n",
       "      <th>1</th>\n",
       "      <td>338.0</td>\n",
       "      <td>4.544656e-17</td>\n",
       "      <td>7.901557e-18</td>\n",
       "    </tr>\n",
       "    <tr>\n",
       "      <th>2</th>\n",
       "      <td>340.0</td>\n",
       "      <td>3.830325e-17</td>\n",
       "      <td>6.485295e-18</td>\n",
       "    </tr>\n",
       "    <tr>\n",
       "      <th>3</th>\n",
       "      <td>342.0</td>\n",
       "      <td>3.496032e-17</td>\n",
       "      <td>5.677440e-18</td>\n",
       "    </tr>\n",
       "    <tr>\n",
       "      <th>4</th>\n",
       "      <td>344.0</td>\n",
       "      <td>3.953803e-17</td>\n",
       "      <td>5.396717e-18</td>\n",
       "    </tr>\n",
       "    <tr>\n",
       "      <th>...</th>\n",
       "      <td>...</td>\n",
       "      <td>...</td>\n",
       "      <td>...</td>\n",
       "    </tr>\n",
       "    <tr>\n",
       "      <th>338</th>\n",
       "      <td>1012.0</td>\n",
       "      <td>1.453823e-17</td>\n",
       "      <td>5.434783e-18</td>\n",
       "    </tr>\n",
       "    <tr>\n",
       "      <th>339</th>\n",
       "      <td>1014.0</td>\n",
       "      <td>1.384905e-17</td>\n",
       "      <td>5.930432e-18</td>\n",
       "    </tr>\n",
       "    <tr>\n",
       "      <th>340</th>\n",
       "      <td>1016.0</td>\n",
       "      <td>1.364819e-17</td>\n",
       "      <td>6.267654e-18</td>\n",
       "    </tr>\n",
       "    <tr>\n",
       "      <th>341</th>\n",
       "      <td>1018.0</td>\n",
       "      <td>1.319110e-17</td>\n",
       "      <td>6.112013e-18</td>\n",
       "    </tr>\n",
       "    <tr>\n",
       "      <th>342</th>\n",
       "      <td>1020.0</td>\n",
       "      <td>1.331974e-17</td>\n",
       "      <td>6.066202e-18</td>\n",
       "    </tr>\n",
       "  </tbody>\n",
       "</table>\n",
       "<p>343 rows × 3 columns</p>\n",
       "</div>"
      ]
     },
     "execution_count": 13,
     "metadata": {},
     "output_type": "execute_result"
    }
   ],
   "execution_count": 13
  },
  {
   "cell_type": "code",
   "metadata": {
    "ExecuteTime": {
     "end_time": "2024-06-06T19:05:25.964005Z",
     "start_time": "2024-06-06T19:05:25.955669Z"
    }
   },
   "source": [
    "sed_pd = sed.to_pandas()\n",
    "sed_pd['wavelength'] *= 10\n",
    "sed_pd.to_csv(\"./data/gaia-datalink/sampled-spectrum.csv\", index=False)"
   ],
   "outputs": [],
   "execution_count": 8
  },
  {
   "cell_type": "code",
   "metadata": {
    "ExecuteTime": {
     "end_time": "2024-06-06T19:14:03.264606Z",
     "start_time": "2024-06-06T19:14:02.867965Z"
    }
   },
   "source": [
    "with quantity_support():\n",
    "    fig, ax = plt.subplots(figsize=(18, 12))\n",
    "    ax.errorbar(sed['wavelength']*u.nm/u.nm, sed['flux']*u.nm/u.nm, sed['flux_error']*u.nm/u.nm, ls='none', marker='.')\n",
    "    ax.xaxis.label.set_size(22)\n",
    "    ax.yaxis.label.set_size(22)\n",
    "    ax.tick_params(axis='both', labelsize=18)"
   ],
   "outputs": [
    {
     "data": {
      "text/plain": [
       "<Figure size 1800x1200 with 1 Axes>"
      ],
      "image/png": "[encoded data removed]"
     },
     "metadata": {},
     "output_type": "display_data"
    }
   ],
   "execution_count": 26
  }
 ],
 "metadata": {
  "kernelspec": {
   "display_name": "mapta-tesis",
   "language": "python",
   "name": "python3"
  },
  "language_info": {
   "codemirror_mode": {
    "name": "ipython",
    "version": 3
   },
   "file_extension": ".py",
   "mimetype": "text/x-python",
   "name": "python",
   "nbconvert_exporter": "python",
   "pygments_lexer": "ipython3",
   "version": "3.12.3"
  }
 },
 "nbformat": 4,
 "nbformat_minor": 2
}
