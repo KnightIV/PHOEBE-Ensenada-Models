{
 "cells": [
  {
   "cell_type": "code",
   "execution_count": 1,
   "metadata": {},
   "outputs": [],
   "source": [
    "import os\n",
    "\n",
    "import numpy as np\n",
    "import pandas as pd"
   ]
  },
  {
   "cell_type": "code",
   "execution_count": 7,
   "metadata": {},
   "outputs": [
    {
     "name": "stderr",
     "output_type": "stream",
     "text": [
      "/tmp/ipykernel_254693/2850249571.py:8: FutureWarning: The behavior of DataFrame concatenation with empty or all-NA entries is deprecated. In a future version, this will no longer exclude empty or all-NA columns when determining the result dtypes. To retain the old behavior, exclude the relevant entries before the concat operation.\n",
      "  oanSpmData = pd.concat([oanSpmData, df])\n"
     ]
    },
    {
     "data": {
      "text/html": [
       "<div>\n",
       "<style scoped>\n",
       "    .dataframe tbody tr th:only-of-type {\n",
       "        vertical-align: middle;\n",
       "    }\n",
       "\n",
       "    .dataframe tbody tr th {\n",
       "        vertical-align: top;\n",
       "    }\n",
       "\n",
       "    .dataframe thead th {\n",
       "        text-align: right;\n",
       "    }\n",
       "</style>\n",
       "<table border=\"1\" class=\"dataframe\">\n",
       "  <thead>\n",
       "    <tr style=\"text-align: right;\">\n",
       "      <th></th>\n",
       "      <th>hjd</th>\n",
       "      <th>mag</th>\n",
       "      <th>err</th>\n",
       "      <th>band</th>\n",
       "    </tr>\n",
       "  </thead>\n",
       "  <tbody>\n",
       "    <tr>\n",
       "      <th>0</th>\n",
       "      <td>2.459656e+06</td>\n",
       "      <td>15.1325</td>\n",
       "      <td>0.0112</td>\n",
       "      <td>B</td>\n",
       "    </tr>\n",
       "    <tr>\n",
       "      <th>1</th>\n",
       "      <td>2.459656e+06</td>\n",
       "      <td>15.1464</td>\n",
       "      <td>0.0112</td>\n",
       "      <td>B</td>\n",
       "    </tr>\n",
       "    <tr>\n",
       "      <th>2</th>\n",
       "      <td>2.459656e+06</td>\n",
       "      <td>15.1695</td>\n",
       "      <td>0.0112</td>\n",
       "      <td>B</td>\n",
       "    </tr>\n",
       "    <tr>\n",
       "      <th>3</th>\n",
       "      <td>2.459656e+06</td>\n",
       "      <td>15.1761</td>\n",
       "      <td>0.0122</td>\n",
       "      <td>B</td>\n",
       "    </tr>\n",
       "    <tr>\n",
       "      <th>4</th>\n",
       "      <td>2.459656e+06</td>\n",
       "      <td>15.2038</td>\n",
       "      <td>0.0122</td>\n",
       "      <td>B</td>\n",
       "    </tr>\n",
       "    <tr>\n",
       "      <th>...</th>\n",
       "      <td>...</td>\n",
       "      <td>...</td>\n",
       "      <td>...</td>\n",
       "      <td>...</td>\n",
       "    </tr>\n",
       "    <tr>\n",
       "      <th>341</th>\n",
       "      <td>2.459713e+06</td>\n",
       "      <td>14.8586</td>\n",
       "      <td>0.0092</td>\n",
       "      <td>V</td>\n",
       "    </tr>\n",
       "    <tr>\n",
       "      <th>342</th>\n",
       "      <td>2.459713e+06</td>\n",
       "      <td>14.8698</td>\n",
       "      <td>0.0102</td>\n",
       "      <td>V</td>\n",
       "    </tr>\n",
       "    <tr>\n",
       "      <th>343</th>\n",
       "      <td>2.459713e+06</td>\n",
       "      <td>14.8576</td>\n",
       "      <td>0.0082</td>\n",
       "      <td>V</td>\n",
       "    </tr>\n",
       "    <tr>\n",
       "      <th>344</th>\n",
       "      <td>2.459713e+06</td>\n",
       "      <td>14.8643</td>\n",
       "      <td>0.0082</td>\n",
       "      <td>V</td>\n",
       "    </tr>\n",
       "    <tr>\n",
       "      <th>345</th>\n",
       "      <td>2.459713e+06</td>\n",
       "      <td>14.8555</td>\n",
       "      <td>0.0082</td>\n",
       "      <td>V</td>\n",
       "    </tr>\n",
       "  </tbody>\n",
       "</table>\n",
       "<p>1393 rows × 4 columns</p>\n",
       "</div>"
      ],
      "text/plain": [
       "              hjd      mag     err band\n",
       "0    2.459656e+06  15.1325  0.0112    B\n",
       "1    2.459656e+06  15.1464  0.0112    B\n",
       "2    2.459656e+06  15.1695  0.0112    B\n",
       "3    2.459656e+06  15.1761  0.0122    B\n",
       "4    2.459656e+06  15.2038  0.0122    B\n",
       "..            ...      ...     ...  ...\n",
       "341  2.459713e+06  14.8586  0.0092    V\n",
       "342  2.459713e+06  14.8698  0.0102    V\n",
       "343  2.459713e+06  14.8576  0.0082    V\n",
       "344  2.459713e+06  14.8643  0.0082    V\n",
       "345  2.459713e+06  14.8555  0.0082    V\n",
       "\n",
       "[1393 rows x 4 columns]"
      ]
     },
     "execution_count": 7,
     "metadata": {},
     "output_type": "execute_result"
    }
   ],
   "source": [
    "passbandKeys = ['B', 'V', 'R', 'I']\n",
    "oanSpmData = pd.DataFrame(columns=['hjd', 'mag', 'err'])\n",
    "for f in os.listdir(\"data\"):\n",
    "\tif f.replace(\".dat\", \"\") in passbandKeys:\n",
    "\t\tdf = pd.read_csv(os.path.join(\"data\", f), sep=r'\\s+')\n",
    "\t\tdf.columns = ['hjd', 'mag', 'err', 'band']\n",
    "\t\tdf['band'] = f.replace(\".dat\", \"\")\n",
    "\t\toanSpmData = pd.concat([oanSpmData, df])\n",
    "\n",
    "oanSpmData"
   ]
  },
  {
   "cell_type": "code",
   "execution_count": 8,
   "metadata": {},
   "outputs": [
    {
     "data": {
      "text/plain": [
       "{'B': 15.18304163762118,\n",
       " 'I': 14.159282734463279,\n",
       " 'R': 14.467732514968336,\n",
       " 'V': 14.748955583991277}"
      ]
     },
     "execution_count": 8,
     "metadata": {},
     "output_type": "execute_result"
    }
   ],
   "source": [
    "meanMags: dict[str, float] = {}\n",
    "for band in oanSpmData['band'].unique():\n",
    "    bandData = oanSpmData[oanSpmData['band'] == band]\n",
    "    weightedMeanMag = np.sum(bandData['mag']*bandData['err']**2)/np.sum(bandData['err']**2)\n",
    "    meanMags[band] = weightedMeanMag\n",
    "meanMags"
   ]
  },
  {
   "cell_type": "code",
   "execution_count": 9,
   "metadata": {},
   "outputs": [
    {
     "name": "stdout",
     "output_type": "stream",
     "text": [
      "B-V = 0.43408605362990293\n"
     ]
    }
   ],
   "source": [
    "print(f\"B-V = {meanMags['B'] - meanMags['V']}\")"
   ]
  }
 ],
 "metadata": {
  "kernelspec": {
   "display_name": "mapta-tesis",
   "language": "python",
   "name": "python3"
  },
  "language_info": {
   "codemirror_mode": {
    "name": "ipython",
    "version": 3
   },
   "file_extension": ".py",
   "mimetype": "text/x-python",
   "name": "python",
   "nbconvert_exporter": "python",
   "pygments_lexer": "ipython3",
   "version": "3.12.2"
  }
 },
 "nbformat": 4,
 "nbformat_minor": 2
}
