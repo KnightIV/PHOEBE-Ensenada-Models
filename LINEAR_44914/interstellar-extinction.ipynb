{
 "cells": [
  {
   "metadata": {
    "ExecuteTime": {
     "end_time": "2024-06-06T05:45:12.597853Z",
     "start_time": "2024-06-06T05:45:11.363192Z"
    }
   },
   "cell_type": "code",
   "source": [
    "import os\n",
    "\n",
    "import astropy.units as u\n",
    "from astropy.coordinates import SkyCoord\n",
    "\n",
    "from astroquery.gaia import Gaia\n",
    "from astroquery.simbad import Simbad\n",
    "\n",
    "variableName = os.getcwd().split('/')[-1]\n",
    "variableName"
   ],
   "id": "8f7e24f048975bd1",
   "outputs": [
    {
     "data": {
      "text/plain": [
       "'LINEAR_44914'"
      ]
     },
     "execution_count": 1,
     "metadata": {},
     "output_type": "execute_result"
    }
   ],
   "execution_count": 1
  },
  {
   "metadata": {},
   "cell_type": "markdown",
   "source": "# Configure dustmaps if not done already",
   "id": "48af869b5ec0df29"
  },
  {
   "cell_type": "code",
   "id": "initial_id",
   "metadata": {
    "collapsed": true,
    "ExecuteTime": {
     "end_time": "2024-06-06T05:45:14.807387Z",
     "start_time": "2024-06-06T05:45:12.599458Z"
    }
   },
   "source": [
    "import dustmaps.bayestar as bayestar\n",
    "\n",
    "bayestar.fetch() # fetch dustmap if not already retrieved"
   ],
   "outputs": [
    {
     "name": "stdout",
     "output_type": "stream",
     "text": [
      "Checking existing file to see if MD5 sum matches ...\n",
      "File exists. Not overwriting.\n"
     ]
    }
   ],
   "execution_count": 2
  },
  {
   "metadata": {},
   "cell_type": "markdown",
   "source": [
    "# Retrieve GDR3 Object Information\n",
    "\n",
    "Use SIMBAD to map object name to matched GDR3 `source_id`.\n",
    "\n",
    "Retrieve photogeometric distance from Bailer-Jones et al. (2021) table `external.gaiaedr3_distance`."
   ],
   "id": "81e9fe6e42b6a535"
  },
  {
   "metadata": {
    "ExecuteTime": {
     "end_time": "2024-06-06T05:45:16.313904Z",
     "start_time": "2024-06-06T05:45:14.808084Z"
    }
   },
   "cell_type": "code",
   "source": [
    "simbadResult = Simbad.query_objectids(variableName)\n",
    "allIds = simbadResult['ID']\n",
    "gaiaSourceId = [int(s_id.replace('Gaia DR3 ', '')) for s_id in allIds if 'Gaia DR3' in s_id][0]\n",
    "gaiaSourceId, type(gaiaSourceId)"
   ],
   "id": "427afc8fca01f22f",
   "outputs": [
    {
     "data": {
      "text/plain": [
       "(934267300844153600, int)"
      ]
     },
     "execution_count": 3,
     "metadata": {},
     "output_type": "execute_result"
    }
   ],
   "execution_count": 3
  },
  {
   "metadata": {},
   "cell_type": "markdown",
   "source": [
    "Flags for table results: ABBCC\n",
    "\n",
    "Taken from Bailer-Jones et al. (2021)\n",
    "\n",
    "A Source magnitude compared to the limit used to make the prior\n",
    "```\n",
    "        0 Source has no G-band magnitude\n",
    "        1 G <= Glim\n",
    "        2 G > Glim\n",
    "```\n",
    "\n",
    "B Hartigan dip test for unimodality. Left digit, geometric; right digit, photogeometric\n",
    "```\n",
    "        0 Unimodal hypothesis okay\n",
    "        1 Possible evidence for multimodality\n",
    "```\n",
    "\n",
    "C Q<sub>G</sub> models used in prior. Left digit, bluer model; right digit, redder model\n",
    "```\n",
    "        0 Null (no model)\n",
    "        1 One-component Gaussian\n",
    "        2 Two-component Gaussian\n",
    "        3 Smoothing spline\n",
    "        Special setting:\n",
    "        99 Source lacks G and/or BP − RP\n",
    "```"
   ],
   "id": "333accc89724b96d"
  },
  {
   "metadata": {
    "ExecuteTime": {
     "end_time": "2024-06-06T05:45:17.372729Z",
     "start_time": "2024-06-06T05:45:16.315215Z"
    }
   },
   "cell_type": "code",
   "source": [
    "query = f\"\"\"\n",
    "        select *\n",
    "        from external.gaiaedr3_distance\n",
    "        where source_id = '{gaiaSourceId}'\n",
    "        \"\"\"\n",
    "job = Gaia.launch_job(query)\n",
    "results = job.get_results()\n",
    "results.to_pandas()"
   ],
   "id": "8bfcc413b17bc185",
   "outputs": [
    {
     "data": {
      "text/plain": [
       "            source_id   r_med_geo    r_lo_geo    r_hi_geo  r_med_photogeo  \\\n",
       "0  934267300844153600  510.735748  502.984253  519.545837      508.533447   \n",
       "\n",
       "   r_lo_photogeo  r_hi_photogeo   flag  \n",
       "0     502.359131      516.09613  10033  "
      ],
      "text/html": [
       "<div>\n",
       "<style scoped>\n",
       "    .dataframe tbody tr th:only-of-type {\n",
       "        vertical-align: middle;\n",
       "    }\n",
       "\n",
       "    .dataframe tbody tr th {\n",
       "        vertical-align: top;\n",
       "    }\n",
       "\n",
       "    .dataframe thead th {\n",
       "        text-align: right;\n",
       "    }\n",
       "</style>\n",
       "<table border=\"1\" class=\"dataframe\">\n",
       "  <thead>\n",
       "    <tr style=\"text-align: right;\">\n",
       "      <th></th>\n",
       "      <th>source_id</th>\n",
       "      <th>r_med_geo</th>\n",
       "      <th>r_lo_geo</th>\n",
       "      <th>r_hi_geo</th>\n",
       "      <th>r_med_photogeo</th>\n",
       "      <th>r_lo_photogeo</th>\n",
       "      <th>r_hi_photogeo</th>\n",
       "      <th>flag</th>\n",
       "    </tr>\n",
       "  </thead>\n",
       "  <tbody>\n",
       "    <tr>\n",
       "      <th>0</th>\n",
       "      <td>934267300844153600</td>\n",
       "      <td>510.735748</td>\n",
       "      <td>502.984253</td>\n",
       "      <td>519.545837</td>\n",
       "      <td>508.533447</td>\n",
       "      <td>502.359131</td>\n",
       "      <td>516.09613</td>\n",
       "      <td>10033</td>\n",
       "    </tr>\n",
       "  </tbody>\n",
       "</table>\n",
       "</div>"
      ]
     },
     "execution_count": 4,
     "metadata": {},
     "output_type": "execute_result"
    }
   ],
   "execution_count": 4
  },
  {
   "metadata": {
    "ExecuteTime": {
     "end_time": "2024-06-06T05:45:17.377710Z",
     "start_time": "2024-06-06T05:45:17.374014Z"
    }
   },
   "cell_type": "code",
   "source": [
    "# can take median photogeometric distance by default, but this way we can check the distance systematically for each measurement\n",
    "distanceCols = results.colnames.copy()\n",
    "distanceCols.remove('source_id')\n",
    "distanceCols.remove('flag')\n",
    "distanceCols"
   ],
   "id": "1869b924b3a14a52",
   "outputs": [
    {
     "data": {
      "text/plain": [
       "['r_med_geo',\n",
       " 'r_lo_geo',\n",
       " 'r_hi_geo',\n",
       " 'r_med_photogeo',\n",
       " 'r_lo_photogeo',\n",
       " 'r_hi_photogeo']"
      ]
     },
     "execution_count": 5,
     "metadata": {},
     "output_type": "execute_result"
    }
   ],
   "execution_count": 5
  },
  {
   "metadata": {},
   "cell_type": "markdown",
   "source": "# Calculate $E(B-V)$ using Bailer-Jones et al. (2021) distance",
   "id": "b73fb845fec0aacd"
  },
  {
   "metadata": {
    "ExecuteTime": {
     "end_time": "2024-06-06T05:45:17.389652Z",
     "start_time": "2024-06-06T05:45:17.378532Z"
    }
   },
   "cell_type": "code",
   "source": [
    "# for compute time's sake, only check median photogeometric distance for now\n",
    "distance = results['r_med_photogeo'][0]*u.pc # parsecs units from Gaia table\n",
    "distance"
   ],
   "id": "1ecdb7d3f454202d",
   "outputs": [
    {
     "data": {
      "text/plain": [
       "<Quantity 508.53345 pc>"
      ],
      "text/latex": "$508.53345 \\; \\mathrm{pc}$"
     },
     "execution_count": 6,
     "metadata": {},
     "output_type": "execute_result"
    }
   ],
   "execution_count": 6
  },
  {
   "metadata": {
    "ExecuteTime": {
     "end_time": "2024-06-06T05:45:17.415790Z",
     "start_time": "2024-06-06T05:45:17.390429Z"
    }
   },
   "cell_type": "code",
   "source": [
    "variableCoord = SkyCoord.from_name(variableName)\n",
    "variableCoord = SkyCoord(variableCoord.ra, variableCoord.dec, distance=distance)\n",
    "variableCoord"
   ],
   "id": "ec1af567dbf48d8d",
   "outputs": [
    {
     "data": {
      "text/plain": [
       "<SkyCoord (ICRS): (ra, dec, distance) in (deg, deg, pc)\n",
       "    (118.06521155, 49.79953783, 508.53345)>"
      ]
     },
     "execution_count": 7,
     "metadata": {},
     "output_type": "execute_result"
    }
   ],
   "execution_count": 7
  },
  {
   "metadata": {
    "ExecuteTime": {
     "end_time": "2024-06-06T05:45:41.065249Z",
     "start_time": "2024-06-06T05:45:17.416614Z"
    }
   },
   "cell_type": "code",
   "source": [
    "dustmap = bayestar.BayestarQuery(max_samples=100)\n",
    "ebv, flags = dustmap(variableCoord, mode='samples', return_flags=True)\n",
    "ebv, flags # might end up having some appreciable effect"
   ],
   "id": "75782381c8922762",
   "outputs": [
    {
     "name": "stdout",
     "output_type": "stream",
     "text": [
      "Loading pixel_info ...\n",
      "Loading samples ...\n",
      "Loading best_fit ...\n",
      "Replacing NaNs in reliable distance estimates ...\n",
      "Sorting pixel_info ...\n",
      "Extracting hp_idx_sorted and data_idx at each nside ...\n",
      "  nside = 64\n",
      "  nside = 128\n",
      "  nside = 256\n",
      "  nside = 512\n",
      "  nside = 1024\n",
      "t = 23.639 s\n",
      "  pix_info:   0.375 s\n",
      "   samples:  13.608 s\n",
      "      best:   2.893 s\n",
      "       nan:   0.018 s\n",
      "      sort:   6.685 s\n",
      "       idx:   0.061 s\n"
     ]
    },
    {
     "data": {
      "text/plain": [
       "(array([0.09999999, 0.11      , 0.09999999, 0.09      , 0.02769466],\n",
       "       dtype=float32),\n",
       " (True, True))"
      ]
     },
     "execution_count": 8,
     "metadata": {},
     "output_type": "execute_result"
    }
   ],
   "execution_count": 8
  }
 ],
 "metadata": {
  "kernelspec": {
   "display_name": "Python 3",
   "language": "python",
   "name": "python3"
  },
  "language_info": {
   "codemirror_mode": {
    "name": "ipython",
    "version": 2
   },
   "file_extension": ".py",
   "mimetype": "text/x-python",
   "name": "python",
   "nbconvert_exporter": "python",
   "pygments_lexer": "ipython2",
   "version": "2.7.6"
  }
 },
 "nbformat": 4,
 "nbformat_minor": 5
}
