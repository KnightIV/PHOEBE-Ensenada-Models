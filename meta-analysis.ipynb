{
 "cells": [
  {
   "cell_type": "code",
   "execution_count": 25,
   "metadata": {},
   "outputs": [],
   "source": [
    "import os\n",
    "\n",
    "from astroquery.vizier import Vizier\n",
    "from astroquery.simbad import Simbad\n",
    "\n",
    "skipDirs = ['.git', 'general', '.vscode']"
   ]
  },
  {
   "cell_type": "code",
   "execution_count": 6,
   "metadata": {},
   "outputs": [
    {
     "data": {
      "text/plain": [
       "{'ATO J172.8778+47.9056': 7.88873415117892e+17,\n",
       " 'CRTS J074502.6+253437': 8.687838929873417e+17,\n",
       " 'LINEAR_16694484': 1.3849724758727135e+18,\n",
       " 'LINEAR_44914': 9.342673008441536e+17,\n",
       " 'TYC4002-2628-1': 1.996670926588668e+18}"
      ]
     },
     "execution_count": 6,
     "metadata": {},
     "output_type": "execute_result"
    }
   ],
   "source": [
    "simbadGaiaIds = {}\n",
    "\n",
    "for objName in os.listdir(os.getcwd()):\n",
    "\tif os.path.isdir(objName) and objName not in skipDirs:\n",
    "\t\tsimbadResult = Simbad.query_objectids(objName)\n",
    "\t\tallIds = simbadResult['ID']\n",
    "\t\tfor astroId in allIds:\n",
    "\t\t\tif 'Gaia DR3' in astroId:\n",
    "\t\t\t\tsimbadGaiaIds[objName] = float(astroId.replace('Gaia DR3 ', ''))\n",
    "simbadGaiaIds"
   ]
  },
  {
   "cell_type": "code",
   "execution_count": 11,
   "metadata": {},
   "outputs": [
    {
     "data": {
      "text/plain": [
       "{'ATO J172.8778+47.9056': '788873415117892000',\n",
       " 'CRTS J074502.6+253437': '868783892987341700',\n",
       " 'LINEAR_16694484': '1384972475872713500',\n",
       " 'LINEAR_44914': '934267300844153600',\n",
       " 'TYC4002-2628-1': '1996670926588668000'}"
      ]
     },
     "execution_count": 11,
     "metadata": {},
     "output_type": "execute_result"
    }
   ],
   "source": [
    "# https://stackoverflow.com/questions/38847690/convert-float-to-string-in-positional-format-without-scientific-notation-and-fa#38847691\n",
    "import decimal\n",
    "\n",
    "ctx = decimal.Context()\n",
    "ctx.prec = 40\n",
    "\n",
    "def float_to_str(f):\n",
    "    \"\"\"\n",
    "    Convert the given float to a string,\n",
    "    without resorting to scientific notation\n",
    "    \"\"\"\n",
    "    d1 = ctx.create_decimal(repr(f))\n",
    "    return format(d1, 'f')\n",
    "\n",
    "{objName: float_to_str(gid) for objName, gid in simbadGaiaIds.items()}"
   ]
  },
  {
   "cell_type": "code",
   "execution_count": 15,
   "metadata": {},
   "outputs": [
    {
     "name": "stdout",
     "output_type": "stream",
     "text": [
      "ATO J172.8778+47.9056\n",
      "      Source      \n",
      "------------------\n",
      "788870357101176960\n",
      "788873307730282752\n",
      "788873415117891968\n",
      "788873518197107200\n",
      "788873586903450112\n",
      "788873651327513728\n",
      "788874342830828160\n",
      "\n",
      "CRTS J074502.6+253437\n",
      "      Source      \n",
      "------------------\n",
      "868782101989684352\n",
      "868782308143103616\n",
      "868782308143105280\n",
      "868782312439381248\n",
      "868783132776676352\n",
      "868783515029645824\n",
      "868783579453266048\n",
      "868783583749761920\n",
      "868783613813011968\n",
      "868783618109499776\n",
      "               ...\n",
      "868783961706815744\n",
      "868783991770145536\n",
      "868783991770371200\n",
      "868784610245585408\n",
      "868784614541851008\n",
      "868784614542237440\n",
      "868784614542254848\n",
      "868784644605176064\n",
      "868784683260503424\n",
      "868784717621062016\n",
      "868784816403872128\n",
      "Length = 38 rows\n",
      "\n",
      "LINEAR_16694484\n",
      "       Source      \n",
      "-------------------\n",
      "1384971440784499584\n",
      "1384971479440297472\n",
      "1384971651238990464\n",
      "1384971715662586880\n",
      "1384971715664168576\n",
      "1384971719958467968\n",
      "1384971719958640896\n",
      "1384971754317308928\n",
      "1384972059259805952\n",
      "1384972402857181952\n",
      "1384972402857182080\n",
      "1384972407153685632\n",
      "1384972437216924288\n",
      "1384972437216927616\n",
      "1384972471576664960\n",
      "1384972475872713472\n",
      "1384972475872713984\n",
      "1384972505940223744\n",
      "1384972574655887744\n",
      "1384972578951929216\n",
      "1384972613311668736\n",
      "1384972746454578816\n",
      "1384972780814324864\n",
      "\n",
      "LINEAR_44914\n",
      "      Source      \n",
      "------------------\n",
      "934266403195100160\n",
      "934266506274312960\n",
      "934266544928840704\n",
      "934266957246768512\n",
      "934267227828824960\n",
      "934267232124677760\n",
      "934267232124677888\n",
      "934267262190928384\n",
      "934267300844153600\n",
      "934267330908047360\n",
      "934267369563630720\n",
      "934267537066481408\n",
      "934267571426220672\n",
      "934267674505434496\n",
      "934267678801274752\n",
      "934267713161012992\n",
      "934267743224911872\n",
      "934267747520751872\n",
      "\n",
      "TYC4002-2628-1\n",
      "       Source      \n",
      "-------------------\n",
      "1996669891491318272\n",
      "1996669891491322880\n",
      "1996669895786301440\n",
      "1996669895786973824\n",
      "1996669895786979072\n",
      "1996669895794004224\n",
      "1996669895794005120\n",
      "1996669895794132096\n",
      "1996669895794132480\n",
      "1996669925851072640\n",
      "                ...\n",
      "1996670101945398144\n",
      "1996670101945671808\n",
      "1996670101945677568\n",
      "1996670101945681920\n",
      "1996670101945916032\n",
      "1996670101952430848\n",
      "1996670101952576512\n",
      "1996670101952587264\n",
      "1996670132009537664\n",
      "1996670132009561600\n",
      "1996670132009561856\n",
      "Length = 50 rows\n",
      "\n"
     ]
    }
   ],
   "source": [
    "gaiaSourceInfo = {}\n",
    "\n",
    "for objName in os.listdir(os.getcwd()):\n",
    "\tif os.path.isdir(objName) and objName not in skipDirs:\n",
    "\t\ttableListResult = Vizier.query_object(objName, catalog='I/355/gaiadr3') # query Gaia DR3 table\n",
    "\t\tgaiaSourceInfo[objName] = tableListResult[0]\n",
    "\t\tprint(objName)\n",
    "\t\tprint(tableListResult[0]['Source'])\n",
    "\t\tprint()"
   ]
  },
  {
   "cell_type": "code",
   "execution_count": 16,
   "metadata": {},
   "outputs": [
    {
     "data": {
      "text/plain": [
       "<Table length=7>\n",
       "   name    dtype       unit       format                                                           description                                                           n_bad\n",
       "--------- ------- ------------- --------- ------------------------------------------------------------------------------------------------------------------------------ -----\n",
       "  RA_ICRS float64           deg {:15.11f}                                                                                       Right ascension (ICRS) at Ep=2016.0 (ra)     0\n",
       "  DE_ICRS float64           deg {:15.11f}                                                                                          Declination (ICRS) at Ep=2016.0 (dec)     0\n",
       "   Source   int64                                                                         Unique source identifier (unique within a particular Data Release) (source_id)     0\n",
       "e_RA_ICRS float64           mas   {:7.4f}                                                                                   Standard error of right ascension (ra_error)     0\n",
       "e_DE_ICRS float64           mas   {:7.4f}                                                                                      Standard error of declination (dec_error)     0\n",
       "      Plx float64           mas   {:9.4f}                                                                                                          ? Parallax (parallax)     2\n",
       "    e_Plx float32           mas   {:7.4f}                                                                                  ? Standard error of parallax (parallax_error)     2\n",
       "       PM float64      mas / yr   {:9.3f}                                                                                                     ? Total proper motion (pm)     2\n",
       "     pmRA float64      mas / yr   {:9.3f}                                                                ? Proper motion in right ascension direction, pmRA*cosDE (pmra)     2\n",
       "   e_pmRA float32      mas / yr   {:6.3f}                                                    ? Standard error of proper motion in right ascension direction (pmra_error)     2\n",
       "     pmDE float64      mas / yr   {:9.3f}                                                                               ? Proper motion in declination direction (pmdec)     2\n",
       "   e_pmDE float32      mas / yr   {:6.3f}                                                       ? Standard error of proper motion in declination direction (pmdec_error)     2\n",
       "     RUWE float64                 {:7.3f}                                                                                        ? Renormalised unit weight error (ruwe)     2\n",
       "       FG float64                {:16.5f}                                                                                          ? G-band mean flux (phot_g_mean_flux)     0\n",
       "     e_FG float32                {:11.4g}                                                                           ? Error on G-band mean flux (phot_g_mean_flux_error)     0\n",
       "     Gmag float64           mag   {:9.6f}                                                                                      ? G-band mean magnitude (phot_g_mean_mag)     0\n",
       "      FBP float32                {:11.4g}                                                                                  ? Integrated BP mean flux (phot_bp_mean_flux)     0\n",
       "    e_FBP float32                {:11.4g}                                                               ? Error on the integrated BP mean flux (phot_bp_mean_flux_error)     0\n",
       "    BPmag float64           mag   {:9.6f}                                                                              ? Integrated BP mean magnitude (phot_bp_mean_mag)     0\n",
       "      FRP float32                {:11.4g}                                                                                  ? Integrated RP mean flux (phot_rp_mean_flux)     0\n",
       "    e_FRP float32                {:11.4g}                                                               ? Error on the integrated RP mean flux (phot_rp_mean_flux_error)     0\n",
       "    RPmag float64           mag   {:9.6f}                                                                              ? Integrated RP mean magnitude (phot_rp_mean_mag)     0\n",
       "    BP-RP float64           mag   {:9.6f}                                                                                                         ? BP-RP colour (bp_rp)     0\n",
       "       RV float64        km / s   {:7.2f}                                                                                            ? Radial velocity (radial_velocity)     7\n",
       "     e_RV float32        km / s   {:5.2f}                                                                                ? Radial velocity error (radial_velocity_error)     7\n",
       "   Vbroad float64        km / s   {:8.4f}                                                                                  ? Spectral line broadening parameter (vbroad)     7\n",
       "  GRVSmag float64           mag   {:9.6f}                                                                                         ? Integrated Grvs magnitude (grvs_mag)     7\n",
       "      QSO   uint8                                       [0/1] Flag indicating the availability of additional information in the QSO candidates table (in_qso_candidates)     0\n",
       "      Gal   uint8                                 [0/1] Flag indicating the availability of additional information in the galaxy candidates table (in_galaxy_candidates)     0\n",
       "      NSS   uint8                               [0/7] Flag indicating the availability of additional information in the various Non-Single Star tables (non_single_star)     0\n",
       "   XPcont   uint8                         [0/1] Flag indicating the availability of mean BP/RP spectrum in continuous representation for this source (has_xp_continuous)     0\n",
       "   XPsamp   uint8                                         [0/1] Flag indicating the availability of mean BP/RP spectrum in sampled form for this source (has_xp_sampled)     0\n",
       "      RVS   uint8                                                                  [0/1] Flag indicating the availability of mean RVS spectrum for this source (has_rvs)     0\n",
       "  EpochPh   uint8                                                      [0/1] Flag indicating the availability of epoch photometry for this source (has_epoch_photometry)     0\n",
       "  EpochRV   uint8                                                         [0/1] Flag indicating the availability of epoch radial velocity for this source (has_epoch_rv)     0\n",
       "  MCMCGSP   uint8                                                     [0/1] Flag indicating the availability of GSP-Phot MCMC samples for this source (has_mcmc_gspphot)     0\n",
       "  MCMCMSC   uint8                                                              [0/1] Flag indicating the availability of MSC MCMC samples for this source (has_mcmc_msc)     0\n",
       "      And   uint8                                 [0/1] Flag indicating that the source is present in the Gaia Andromeda Photometric Survey (GAPS) (in_andromeda_survey)     0\n",
       "     Teff float64             K   {:7.1f}                                   ? Effective temperature from GSP-Phot Aeneas best library using BP/RP spectra (teff_gspphot)     3\n",
       "     logg float64 log(cm.s**-2)   {:7.4f}                                         ? Surface gravity from GSP-Phot Aeneas best library using BP/RP spectra (logg_gspphot)     3\n",
       "  __Fe_H_ float64                 {:7.4f}                                            ? Iron abundance from GSP-Phot Aeneas best library using BP/RP spectra (mh_gspphot)     3\n",
       "     Dist float64            pc  {:10.4f}                                            ? Distance from GSP-Phot Aeneas best library using BP/RP spectra (distance_gspphot)     3\n",
       "       A0 float64           mag   {:7.4f}                ? Monochromatic extinction A_0 at 547.7nm from GSP-Phot Aeneas best library using BP/RP spectra (azero_gspphot)     3\n",
       "      HIP   int32                                                                            ? HIP cross-id number, van Leeuwen, Cat. I/311 (hip_original_ext_source_id)     7\n",
       "      PS1   int64                                                                         ? PS1 cross-id name, Chambers et al., Cat. II/349 (ps1_original_ext_source_id)     0\n",
       "   SDSS13   int64                                                                               ? SDSS name, Albareti et al., 2017ApJS..233...25A (sdss13_ext_source_id)     0\n",
       "    SKYM2   int32                                                         ? SkyMapperDR2 cross-id name, Onken et al., 2019PASA...36...33O (skym2_original_ext_source_id)     7\n",
       "     TYC2   str12                                                                            Tycho-2 cross-id name, Hog et al., Cat. I/259 (tyc2_original_ext_source_id)     0\n",
       "    URAT1   str15                                                                                URAT1 name, Zacharias et al., Cat. I/329 (urat1_original_ext_source_id)     0\n",
       "  AllWISE   str19                                                                      ALLWISE cross-id name, Cutri et al., Cat. II/328 (allwise_original_ext_source_id)     0\n",
       "   APASS9   int32                                                                    ? APASS9 identification, Henden et al., Cat. II/336 (apass9_original_ext_source_id)     6\n",
       "    GSC23   str10                                                                         GSC2.3 cross-id name, Lasker et al., Cat. I/305 (gsc23_original_ext_source_id)     0\n",
       "    RAVE5   str16                                                                     RAVE DR5 cross-id name, Kunder et al., Cat. III/279 (rave5_original_ext_source_id)     0\n",
       "   _2MASS   str17                                                                        2MASS cross-id name, Cutri et al., Cat. II/246 (twomass_original_ext_source_id)     0\n",
       "    RAVE6   str21                                                                  RAVE DR6 cross-id name, Steinmetz et al., Cat. III/283 (rave6_original_ext_source_id)     0\n",
       "  RAJ2000 float64           deg {:15.11f}                                                        Barycentric right ascension (ICRS) at Ep=2000.0 (added by CDS) (ra2000)     0\n",
       "  DEJ2000 float64           deg {:15.11f}                                                           Barycentric declination (ICRS) at Ep=2000.0 (added by CDS) (dec2000)     0"
      ]
     },
     "execution_count": 16,
     "metadata": {},
     "output_type": "execute_result"
    }
   ],
   "source": [
    "gaiaTable = list(gaiaSourceInfo.values())[0]\n",
    "gaiaTable.info"
   ]
  },
  {
   "cell_type": "code",
   "execution_count": 31,
   "metadata": {},
   "outputs": [
    {
     "name": "stdout",
     "output_type": "stream",
     "text": [
      "ATO J172.8778+47.9056 7.88873415117892e+17\n",
      "CRTS J074502.6+253437 8.687838929873417e+17\n",
      "LINEAR_16694484 1.3849724758727135e+18\n",
      "LINEAR_44914 9.342673008441536e+17\n",
      "TYC4002-2628-1 1.996670926588668e+18\n",
      "\tERR index 0 is out of bounds for axis 0 with size 0\n"
     ]
    },
    {
     "data": {
      "text/plain": [
       "[(ATO J172.8778+47.9056|7.88873415117892e+17: G=12.934679, BP-RP=1.152715),\n",
       " (CRTS J074502.6+253437|8.687838929873417e+17: G=13.584597, BP-RP=1.031323),\n",
       " (LINEAR_16694484|1.3849724758727135e+18: G=14.653597, BP-RP=0.650382),\n",
       " (LINEAR_44914|9.342673008441536e+17: G=14.774841, BP-RP=1.277842)]"
      ]
     },
     "execution_count": 31,
     "metadata": {},
     "output_type": "execute_result"
    }
   ],
   "source": [
    "class HRSourceMags:\n",
    "\n",
    "\tdef __init__(self, obj_name, gdr3_source_id, g_mag, bp_rp) -> None:\n",
    "\t\tself.obj_name = obj_name\n",
    "\t\tself.gdr3_source_id = gdr3_source_id\n",
    "\t\tself.g_mag = g_mag\n",
    "\t\tself.bp_rp = bp_rp\n",
    "\n",
    "\tdef __str__(self) -> str:\n",
    "\t\treturn f\"({self.obj_name}|{str(self.gdr3_source_id)}: G={self.g_mag}, BP-RP={self.bp_rp})\"\n",
    "\t\n",
    "\tdef __repr__(self) -> str:\n",
    "\t\treturn self.__str__()\n",
    "\n",
    "objColors: list[HRSourceMags] = []\n",
    "\n",
    "debugTable: None\n",
    "for obj, gaiaTable in gaiaSourceInfo.items():\n",
    "\tprint(obj, str(simbadGaiaIds[obj]))\n",
    "\tmatchedSourceInfo = gaiaTable[gaiaTable['Source'] == int(simbadGaiaIds[obj])]\n",
    "\ttry:\n",
    "\t\tobjColors.append(HRSourceMags(obj, float(simbadGaiaIds[obj]), matchedSourceInfo['Gmag'][0], matchedSourceInfo['BP-RP'][0]))\n",
    "\texcept Exception as e:\n",
    "\t\tprint('\\tERR', e)\n",
    "\t\tdebugTable = gaiaTable\n",
    "objColors\n",
    "# debugTable"
   ]
  }
 ],
 "metadata": {
  "kernelspec": {
   "display_name": "mapta-tesis-310",
   "language": "python",
   "name": "python3"
  },
  "language_info": {
   "codemirror_mode": {
    "name": "ipython",
    "version": 3
   },
   "file_extension": ".py",
   "mimetype": "text/x-python",
   "name": "python",
   "nbconvert_exporter": "python",
   "pygments_lexer": "ipython3",
   "version": "3.1.-1"
  }
 },
 "nbformat": 4,
 "nbformat_minor": 2
}
